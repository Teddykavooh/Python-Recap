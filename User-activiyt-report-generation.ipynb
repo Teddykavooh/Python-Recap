{
 "cells": [
  {
   "cell_type": "code",
   "execution_count": 3,
   "id": "4c44480d-8ea6-4aff-991c-7cb64ccbdeb3",
   "metadata": {},
   "outputs": [],
   "source": [
    "def get_event_date(event):\n",
    "    \"\"\"Helper func to sort the list\"\"\"\n",
    "    return event.date\n",
    "def current_users(events):\n",
    "    \"\"\"Proccessing func\"\"\"\n",
    "    events.sort(key=get_event_date)\n",
    "    machines = {}\n",
    "    for event in events:\n",
    "        if event.machine not in machines:\n",
    "            machines[event.machine] = set()\n",
    "        if event.type == \"login\":\n",
    "            machines[event.machine].add(event.user)\n",
    "        elif event.type == \"logout\":\n",
    "            machines[event.machine].remove(event.user)\n",
    "    return machines\n",
    "def generate_report(machines):\n",
    "    \"\"\"Generate report from dictionary\"\"\"\n",
    "    for machine, users in machines.items():\n",
    "        if len(users) > 0:\n",
    "            user_list = \", \".join(users)\n",
    "            print(\"{}: {}\".format(machine, user_list))\n",
    "        "
   ]
  },
  {
   "cell_type": "markdown",
   "id": "76d05e91-b634-4379-8e8c-5959318b6461",
   "metadata": {},
   "source": [
    "Our event class"
   ]
  },
  {
   "cell_type": "code",
   "execution_count": null,
   "id": "d10bf410-94fd-4d73-8207-9a32f44322e5",
   "metadata": {},
   "outputs": [],
   "source": [
    "class Event:\n",
    "    def __init__(self, event_date, event_type, machine_name, user):\n",
    "        self.date = event_date\n",
    "        self.type = event_type\n",
    "        self.machine = machine_name\n",
    "        self.user = user"
   ]
  }
 ],
 "metadata": {
  "kernelspec": {
   "display_name": "Python 3 (ipykernel)",
   "language": "python",
   "name": "python3"
  },
  "language_info": {
   "codemirror_mode": {
    "name": "ipython",
    "version": 3
   },
   "file_extension": ".py",
   "mimetype": "text/x-python",
   "name": "python",
   "nbconvert_exporter": "python",
   "pygments_lexer": "ipython3",
   "version": "3.10.7"
  }
 },
 "nbformat": 4,
 "nbformat_minor": 5
}
