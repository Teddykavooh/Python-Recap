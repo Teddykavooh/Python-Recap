{
 "cells": [
  {
   "cell_type": "code",
   "execution_count": 27,
   "id": "7f006109-596d-4ddd-be87-98b0b3a011d6",
   "metadata": {},
   "outputs": [],
   "source": [
    "class Teddy:\n",
    "    def __init__(self, nick_name, color):\n",
    "        \"\"\"Teddy needs name and color\"\"\"\n",
    "        self.nick_name = nick_name\n",
    "        self.color = color\n",
    "        \n",
    "    def __str__(self):\n",
    "        \"\"\"Return value for class\"\"\"\n",
    "        return \"{} is {} in color\".format(self.nick_name, self.color)\n",
    "    \n",
    "    \n",
    "person = Teddy(\"Bitchez\", \"ebony\")"
   ]
  },
  {
   "cell_type": "code",
   "execution_count": 4,
   "id": "9ebdb093-f916-4443-80ec-f4eecf7d8145",
   "metadata": {},
   "outputs": [
    {
     "name": "stdout",
     "output_type": "stream",
     "text": [
      "Help on class Teddy in module __main__:\n",
      "\n",
      "class Teddy(builtins.object)\n",
      " |  Teddy(nick_name, color)\n",
      " |  \n",
      " |  Methods defined here:\n",
      " |  \n",
      " |  __init__(self, nick_name, color)\n",
      " |      Teddy needs name and color\n",
      " |  \n",
      " |  __str__(self)\n",
      " |      Return value for class\n",
      " |  \n",
      " |  ----------------------------------------------------------------------\n",
      " |  Data descriptors defined here:\n",
      " |  \n",
      " |  __dict__\n",
      " |      dictionary for instance variables (if defined)\n",
      " |  \n",
      " |  __weakref__\n",
      " |      list of weak references to the object (if defined)\n",
      "\n"
     ]
    }
   ],
   "source": [
    "help(Teddy)"
   ]
  },
  {
   "cell_type": "code",
   "execution_count": 13,
   "id": "8b7cc21e-1f36-43dc-8e93-1bbdec6b4174",
   "metadata": {},
   "outputs": [
    {
     "name": "stdout",
     "output_type": "stream",
     "text": [
      "<class '__main__.Teddy'>\n"
     ]
    }
   ],
   "source": [
    "print(Teddy)"
   ]
  },
  {
   "cell_type": "code",
   "execution_count": 28,
   "id": "060b0f5e-cf0f-40d4-9be6-8ca75719c66f",
   "metadata": {},
   "outputs": [
    {
     "name": "stdout",
     "output_type": "stream",
     "text": [
      "Bitchez is ebony in color\n"
     ]
    }
   ],
   "source": [
    "print(person)"
   ]
  },
  {
   "cell_type": "code",
   "execution_count": null,
   "id": "24230ee2-ebd1-4c4c-a47e-740ad1e075fa",
   "metadata": {},
   "outputs": [],
   "source": []
  },
  {
   "cell_type": "code",
   "execution_count": null,
   "id": "7f752b14-9758-4880-8441-56c7cf378136",
   "metadata": {},
   "outputs": [],
   "source": []
  }
 ],
 "metadata": {
  "kernelspec": {
   "display_name": "Python 3 (ipykernel)",
   "language": "python",
   "name": "python3"
  },
  "language_info": {
   "codemirror_mode": {
    "name": "ipython",
    "version": 3
   },
   "file_extension": ".py",
   "mimetype": "text/x-python",
   "name": "python",
   "nbconvert_exporter": "python",
   "pygments_lexer": "ipython3",
   "version": "3.10.7"
  }
 },
 "nbformat": 4,
 "nbformat_minor": 5
}
