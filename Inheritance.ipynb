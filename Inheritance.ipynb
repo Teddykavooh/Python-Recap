{
 "cells": [
  {
   "cell_type": "code",
   "execution_count": 6,
   "id": "0b7723ae-4da5-4c47-9708-e471efed5bae",
   "metadata": {},
   "outputs": [],
   "source": [
    "class Fruit:\n",
    "    def __init__(self, color, flavor):\n",
    "        \"\"\"Requirements\"\"\"\n",
    "        self.color = color\n",
    "        self.flavor = flavor\n",
    "    def __str__(self):\n",
    "        return \"The Fruit class aka The Parent\"\n",
    "class Apple(Fruit):\n",
    "    pass\n",
    "class Grape(Fruit):\n",
    "    pass\n",
    "\n",
    "granny_smith = Apple(\"green\", \"tart\")\n",
    "carnelian = Grape(\"purple\", \"sweet\")\n",
    "\n",
    "class Animal:\n",
    "    sound = \"\"\n",
    "    def __init__(self, name):\n",
    "        \"\"\"Requirements\"\"\"\n",
    "        self.name = name\n",
    "    def __str__(self):\n",
    "        return \"The Animal class aka The Parent\"\n",
    "    def speak(self):\n",
    "        print(\"{sound} I'm {name}! {sound}\".format(name=self.name, sound=self.sound))\n",
    "              \n",
    "class Piglet(Animal):\n",
    "    sound = \"Oink!\"\n",
    "              \n",
    "hamlet = Piglet(\"Hamlet\")"
   ]
  },
  {
   "cell_type": "code",
   "execution_count": 2,
   "id": "f7e6a0fb-006d-45a7-923f-325442911a6b",
   "metadata": {},
   "outputs": [
    {
     "name": "stdout",
     "output_type": "stream",
     "text": [
      "tart\n"
     ]
    }
   ],
   "source": [
    "print(granny_smith.flavor)"
   ]
  },
  {
   "cell_type": "code",
   "execution_count": 7,
   "id": "19f2b38b-d1c6-49eb-9138-9def24a1bbaa",
   "metadata": {},
   "outputs": [
    {
     "name": "stdout",
     "output_type": "stream",
     "text": [
      "Oink! I'm Hamlet! Oink!\n"
     ]
    }
   ],
   "source": [
    "hamlet.speak()"
   ]
  },
  {
   "cell_type": "code",
   "execution_count": null,
   "id": "842ab3d7-330e-4a6a-be25-46a3cb764bcc",
   "metadata": {},
   "outputs": [],
   "source": []
  }
 ],
 "metadata": {
  "kernelspec": {
   "display_name": "Python 3 (ipykernel)",
   "language": "python",
   "name": "python3"
  },
  "language_info": {
   "codemirror_mode": {
    "name": "ipython",
    "version": 3
   },
   "file_extension": ".py",
   "mimetype": "text/x-python",
   "name": "python",
   "nbconvert_exporter": "python",
   "pygments_lexer": "ipython3",
   "version": "3.10.7"
  }
 },
 "nbformat": 4,
 "nbformat_minor": 5
}
