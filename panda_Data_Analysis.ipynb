{
 "cells": [
  {
   "cell_type": "code",
   "execution_count": 1,
   "id": "fbe9be59-908c-48d5-b53b-b80f1b803895",
   "metadata": {},
   "outputs": [],
   "source": [
    "import pandas\n",
    "visitors = [1235, 6424, 9345, 8464,2345]\n",
    "errors = [23, 45, 33, 45, 76] \n",
    "df = pandas.DataFrame({\"Visitors\": visitors, \"errors\": errors}, index=[\"Mon\", \"Tues\", \"Wed\", \"Thu\", \"Fri\"])"
   ]
  },
  {
   "cell_type": "code",
   "execution_count": 2,
   "id": "0ebd1682-9bb2-4424-9c15-a9df4f1d7aaf",
   "metadata": {},
   "outputs": [
    {
     "name": "stdout",
     "output_type": "stream",
     "text": [
      "      Visitors  errors\n",
      "Mon       1235      23\n",
      "Tues      6424      45\n",
      "Wed       9345      33\n",
      "Thu       8464      45\n",
      "Fri       2345      76\n"
     ]
    }
   ],
   "source": [
    "print(df)"
   ]
  },
  {
   "cell_type": "code",
   "execution_count": 4,
   "id": "ffc14966-2599-4350-b159-a234a5812cc4",
   "metadata": {},
   "outputs": [
    {
     "data": {
      "text/plain": [
       "44.4"
      ]
     },
     "execution_count": 4,
     "metadata": {},
     "output_type": "execute_result"
    }
   ],
   "source": [
    "df[\"errors\"].mean()"
   ]
  },
  {
   "cell_type": "code",
   "execution_count": null,
   "id": "314cd5f5-1bbc-4d61-b403-1697618110b2",
   "metadata": {},
   "outputs": [],
   "source": []
  }
 ],
 "metadata": {
  "kernelspec": {
   "display_name": "Python 3 (ipykernel)",
   "language": "python",
   "name": "python3"
  },
  "language_info": {
   "codemirror_mode": {
    "name": "ipython",
    "version": 3
   },
   "file_extension": ".py",
   "mimetype": "text/x-python",
   "name": "python",
   "nbconvert_exporter": "python",
   "pygments_lexer": "ipython3",
   "version": "3.10.7"
  }
 },
 "nbformat": 4,
 "nbformat_minor": 5
}
